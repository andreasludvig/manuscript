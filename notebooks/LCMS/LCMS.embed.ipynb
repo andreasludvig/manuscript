{
 "cells": [
  {
   "cell_type": "markdown",
   "metadata": {},
   "source": [
    "# \n",
    "\n",
    "# LCMS\n",
    "\n",
    "## Setup"
   ],
   "id": "2325e201-a70a-4402-b292-e4db586680de"
  },
  {
   "cell_type": "code",
   "execution_count": null,
   "metadata": {},
   "outputs": [
    {
     "output_type": "stream",
     "name": "stderr",
     "text": [
      "here() starts at C:/Users/alosvendsen/Documents/R/manuscript"
     ]
    }
   ],
   "source": [
    "library(readxl)\n",
    "library(data.table)\n",
    "library(ggplot2)\n",
    "library(patchwork)\n",
    "library(here)"
   ],
   "id": "3207ee3c-104c-462a-90f3-45bafe65d87c"
  },
  {
   "cell_type": "markdown",
   "metadata": {},
   "source": [
    "## Donor 3, AS0013B, Midazolam\n",
    "\n",
    "Check peak status’ for any amounts below what below/above the limit of our standard curve."
   ],
   "id": "ff61a25a-3f0c-4279-a627-072f22b0dd94"
  },
  {
   "cell_type": "code",
   "execution_count": null,
   "metadata": {},
   "outputs": [
    {
     "output_type": "stream",
     "name": "stdout",
     "text": [
      "[1] NA             \"Response Low\""
     ]
    }
   ],
   "source": [
    "donor_3_data <- \n",
    "  readRDS(here(\"notebooks/LCMS/data_processed/AS0013.rds\"))\n",
    "\n",
    "# Check peak status'\n",
    "unique(donor_3_data$peak_status)"
   ],
   "id": "046dd5a9-d7a6-4f90-b2b1-37ca80f9fa48"
  }
 ],
 "nbformat": 4,
 "nbformat_minor": 5,
 "metadata": {}
}

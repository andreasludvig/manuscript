{
 "cells": [
  {
   "cell_type": "markdown",
   "metadata": {},
   "source": [
    "# \n",
    "\n",
    "# LCMS\n",
    "\n",
    "## Setup"
   ],
   "id": "94ab96fc-b72a-4987-9c62-39fbdb4ee881"
  },
  {
   "cell_type": "code",
   "execution_count": null,
   "metadata": {},
   "outputs": [
    {
     "output_type": "stream",
     "name": "stderr",
     "text": [
      "here() starts at C:/Users/alosvendsen/Documents/R/manuscript"
     ]
    }
   ],
   "source": [
    "library(readxl)\n",
    "library(data.table)\n",
    "library(ggplot2)\n",
    "library(patchwork)\n",
    "library(here)"
   ],
   "id": "23430eec-75cc-44a1-aa6b-ab48bac22273"
  },
  {
   "cell_type": "markdown",
   "metadata": {},
   "source": [
    "## Donor 3, AS0013B, Midazolam\n",
    "\n",
    "Check peak status’ for any amounts below what below/above the limit of our standard curve."
   ],
   "id": "6fb51cc1-43fa-4d12-ad06-d9ca6e61d9bb"
  },
  {
   "cell_type": "code",
   "execution_count": null,
   "metadata": {},
   "outputs": [
    {
     "output_type": "stream",
     "name": "stdout",
     "text": [
      "[1] NA             \"Response Low\""
     ]
    },
    {
     "output_type": "display_data",
     "metadata": {},
     "data": {
      "text/markdown": [
       "  ---------------------------------------------------------------------------------------------------------------------------------------------------------------------------------------------\n",
       "  sample_name        amount peak_status   metabolite           donor treatment   time_treatment     time_incubation   rep   mean_amount   control_mean   relative_amount   mean_relative_amount\n",
       "  ------------- ----------- ------------- ------------------ ------- ----------- ---------------- ----------------- ----- ------------- -------------- ----------------- ----------------------\n",
       "  AS0008_135      0.9118640 Response Low  Hydroxymidazolam         2 10 ng/ml    72                             0.5     3      1.530223       7.625022         0.1195884              0.2006845\n",
       "                                                                     IL-6                                                                                                \n",
       "\n",
       "  AS0008_197      0.8381536 Response Low  Hydroxymidazolam         2 10 ng/ml    120                            0.5     1      3.593515      13.685163         0.0612454              0.2625847\n",
       "                                                                     IL-6                                                                                                \n",
       "  ---------------------------------------------------------------------------------------------------------------------------------------------------------------------------------------------\n"
      ]
     }
    }
   ],
   "source": [
    "donor_3_data <- \n",
    "  readRDS(here(\"notebooks/LCMS/data_processed/AS0013.rds\"))\n",
    "\n",
    "# Check peak status'\n",
    "unique(donor_3_data$peak_status)"
   ],
   "id": "a028b774-66aa-490c-8732-75e141b407e5"
  }
 ],
 "nbformat": 4,
 "nbformat_minor": 5,
 "metadata": {}
}

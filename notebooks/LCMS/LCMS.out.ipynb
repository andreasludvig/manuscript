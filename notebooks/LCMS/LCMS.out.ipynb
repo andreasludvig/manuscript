{
 "cells": [
  {
   "cell_type": "markdown",
   "metadata": {},
   "source": [
    "# \n",
    "\n",
    "# LCMS\n",
    "\n",
    "## Setup"
   ],
   "id": "fd91410f-3ebf-47d9-9da0-c39aa53269a4"
  },
  {
   "cell_type": "code",
   "execution_count": null,
   "metadata": {},
   "outputs": [
    {
     "output_type": "stream",
     "name": "stderr",
     "text": [
      "here() starts at C:/Users/alosvendsen/Documents/R/manuscript"
     ]
    }
   ],
   "source": [
    "library(readxl)\n",
    "library(data.table)\n",
    "library(ggplot2)\n",
    "library(patchwork)\n",
    "library(here)\n"
   ],
   "id": "1efe5152-1c44-46d3-9a93-698c3ef4d277"
  },
  {
   "cell_type": "markdown",
   "metadata": {},
   "source": [
    "## Donor 3, AS0013B, Midazolam\n",
    "\n",
    "Check peak status’ for any amounts below what below/above the limit of our standard curve."
   ],
   "id": "78fc5470-7aa7-464e-9347-a4f04b50efd3"
  },
  {
   "cell_type": "code",
   "execution_count": null,
   "metadata": {},
   "outputs": [
    {
     "output_type": "stream",
     "name": "stdout",
     "text": [
      "[1] NA             \"Response Low\""
     ]
    }
   ],
   "source": [
    "donor_3_data <- \n",
    "  readRDS(here(\"notebooks/LCMS/data_processed/AS0013.rds\"))\n",
    "\n",
    "# Check peak status'\n",
    "unique(donor_3_data$peak_status)\n"
   ],
   "id": "607067fc-0acd-4fd4-a543-9f8d57226458"
  }
 ],
 "nbformat": 4,
 "nbformat_minor": 5,
 "metadata": {}
}

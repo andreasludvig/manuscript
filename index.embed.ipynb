{
 "cells": [
  {
   "cell_type": "markdown",
   "metadata": {},
   "source": [
    "# Manuscript 1\n",
    "\n",
    "Andreas Ludvig Ohm Svendsen [![](data:image/png;base64,iVBORw0KGgoAAAANSUhEUgAAABAAAAAQCAYAAAAf8/9hAAAAGXRFWHRTb2Z0d2FyZQBBZG9iZSBJbWFnZVJlYWR5ccllPAAAA2ZpVFh0WE1MOmNvbS5hZG9iZS54bXAAAAAAADw/eHBhY2tldCBiZWdpbj0i77u/IiBpZD0iVzVNME1wQ2VoaUh6cmVTek5UY3prYzlkIj8+IDx4OnhtcG1ldGEgeG1sbnM6eD0iYWRvYmU6bnM6bWV0YS8iIHg6eG1wdGs9IkFkb2JlIFhNUCBDb3JlIDUuMC1jMDYwIDYxLjEzNDc3NywgMjAxMC8wMi8xMi0xNzozMjowMCAgICAgICAgIj4gPHJkZjpSREYgeG1sbnM6cmRmPSJodHRwOi8vd3d3LnczLm9yZy8xOTk5LzAyLzIyLXJkZi1zeW50YXgtbnMjIj4gPHJkZjpEZXNjcmlwdGlvbiByZGY6YWJvdXQ9IiIgeG1sbnM6eG1wTU09Imh0dHA6Ly9ucy5hZG9iZS5jb20veGFwLzEuMC9tbS8iIHhtbG5zOnN0UmVmPSJodHRwOi8vbnMuYWRvYmUuY29tL3hhcC8xLjAvc1R5cGUvUmVzb3VyY2VSZWYjIiB4bWxuczp4bXA9Imh0dHA6Ly9ucy5hZG9iZS5jb20veGFwLzEuMC8iIHhtcE1NOk9yaWdpbmFsRG9jdW1lbnRJRD0ieG1wLmRpZDo1N0NEMjA4MDI1MjA2ODExOTk0QzkzNTEzRjZEQTg1NyIgeG1wTU06RG9jdW1lbnRJRD0ieG1wLmRpZDozM0NDOEJGNEZGNTcxMUUxODdBOEVCODg2RjdCQ0QwOSIgeG1wTU06SW5zdGFuY2VJRD0ieG1wLmlpZDozM0NDOEJGM0ZGNTcxMUUxODdBOEVCODg2RjdCQ0QwOSIgeG1wOkNyZWF0b3JUb29sPSJBZG9iZSBQaG90b3Nob3AgQ1M1IE1hY2ludG9zaCI+IDx4bXBNTTpEZXJpdmVkRnJvbSBzdFJlZjppbnN0YW5jZUlEPSJ4bXAuaWlkOkZDN0YxMTc0MDcyMDY4MTE5NUZFRDc5MUM2MUUwNEREIiBzdFJlZjpkb2N1bWVudElEPSJ4bXAuZGlkOjU3Q0QyMDgwMjUyMDY4MTE5OTRDOTM1MTNGNkRBODU3Ii8+IDwvcmRmOkRlc2NyaXB0aW9uPiA8L3JkZjpSREY+IDwveDp4bXBtZXRhPiA8P3hwYWNrZXQgZW5kPSJyIj8+84NovQAAAR1JREFUeNpiZEADy85ZJgCpeCB2QJM6AMQLo4yOL0AWZETSqACk1gOxAQN+cAGIA4EGPQBxmJA0nwdpjjQ8xqArmczw5tMHXAaALDgP1QMxAGqzAAPxQACqh4ER6uf5MBlkm0X4EGayMfMw/Pr7Bd2gRBZogMFBrv01hisv5jLsv9nLAPIOMnjy8RDDyYctyAbFM2EJbRQw+aAWw/LzVgx7b+cwCHKqMhjJFCBLOzAR6+lXX84xnHjYyqAo5IUizkRCwIENQQckGSDGY4TVgAPEaraQr2a4/24bSuoExcJCfAEJihXkWDj3ZAKy9EJGaEo8T0QSxkjSwORsCAuDQCD+QILmD1A9kECEZgxDaEZhICIzGcIyEyOl2RkgwAAhkmC+eAm0TAAAAABJRU5ErkJggg==)](https://orcid.org/0000-0001-8050-6447) (SDU)  \n",
    "Tore B. StageFebruary 2, 2024\n",
    "\n",
    "This is an abstract …"
   ],
   "id": "093f3342-192c-4964-b821-80ed140b99d1"
  },
  {
   "cell_type": "code",
   "execution_count": null,
   "metadata": {},
   "outputs": [
    {
     "output_type": "stream",
     "name": "stderr",
     "text": [
      "\u001b[1;36mNow using 'groundhog_3.1.2'.\u001b[0m"
     ]
    },
    {
     "output_type": "stream",
     "name": "stderr",
     "text": [
      "\u001b[36mSuccessfully attached 'data.table_1.14.10'\u001b[0m"
     ]
    }
   ],
   "source": [
    "# Always load same package versions\n",
    "groundhog.day <- \"2024-01-01\"\n",
    "groundhog::meta.groundhog(groundhog.day) "
   ],
   "id": "ad170809-e080-4048-8afa-4e7ef04555ca"
  },
  {
   "cell_type": "markdown",
   "metadata": {},
   "source": [
    "## Introduction\n",
    "\n",
    "Inflammation is a complex biological response that is pivotal in various pathological conditions. These range from systemic inflammatory diseases, such as rheumatoid arthritis and sepsis, to lower-grade chronic inflammatory states such as type 2 diabetes mellitus. Given the prevalence of systemic inflammation, understanding its interaction with drug metabolism is of substantial clinical relevance.\n",
    "\n",
    "Drug-metabolizing enzymes and transporters (DMETs), predominantly found in hepatocytes within the liver, are central to the biotransformation of a wide variety of compounds. Inflammation has been shown to modulate the activity of these DMETs, a phenomenon that could potentially affect the pharmacokinetics of numerous medications. For individuals with altered inflammatory status—whether due to a chronic condition like diabetes or an acute event like sepsis—this modulation can have significant implications. It may necessitate adjustments in drug dosages to avoid adverse effects or therapeutic failure.\n",
    "\n",
    "Previous research has provided valuable insights into the effects of inflammation on DMETs, but a clear correlation between in vitro studies and clinical observations remains elusive. For instance Dunvald et al. \\[@dunvald\\] conducted a comprehensive review of the clinical and in vitro evidence on inflammation-mediated modulation of DMETs and the impact on drug metabolism in humans. They found that in vitro studies in primary human hepatocytes revealed strong evidence of downregulation of key cytochrome P450 (CYP) enzymes by inflammatory cytokines such as IL-6 and IL-1β. However, these studies often employed supraphysiological cytokine doses, which may not accurately represent the inflammatory conditions observed in patients.\n",
    "\n",
    "Levels of IL-6 and IL-1B in healthy individuals are generally low, with reports in range of ~10pg/ml in adults for IL-6, and ~2.5 pg/ml IL-1B in adults \\[@kim2011; @kleiner2013; @said2021; @strand2020\\]. In contrast, cytokine levels may be considerably elevated with IL-6 levels of ~140 pg/mL, and I<u>L-1B levels of ~100 pg/mL</u>, among patients with rheumatoid arthritis or SLE \\[@umare2014\\] to more than 1 ng/mL of IL-6 for patients with acute inflammation caused by sepsis \\[@franco2019\\]. These variations in cytokine levels, which span a wide range in different pathological states, highlight the complex and dynamic nature of inflammation and underscore the need for research that considers this variability when investigating the effects of inflammation on drug-metabolizing enzymes.\n",
    "\n",
    "Recently, 3D primary human hepatocytes (PHH) have challenged 2D PHH as a more physiologically relevant culture method of PHH. 3D culture leads to more stable cell cultures that retain their hepatic phenotype for extended periods of time \\[@bell2016\\]. Consequently, this 3D PHH have been shown to predict CYP induction and hepatotoxicity more accurately than 2D PHH \\[@bell2018; @järvinen2023\\]. Historically, 2D PHH have been utilized to study the effect of drugs and inflammation on hepatocyte/liver function. However, the inherent limitations of 2D cultures, primarily their inability to maintain the physiological phenotype and liver-specific functions of hepatocytes, have prompted a shift towards the 3D liver spheroid models. This model is increasingly recognized for their physiological relevance and stability, offering a more accurate representation of hepatic responses. The 3D liver spheroids preserve liver cell phenotypes and functions over extended periods, thereby enhancing the reliability of drug-induced liver injury predictions and disease mechanism investigations. This advancement positions 3D liver spheroids as potentially the new standard for in vitro hepatocyte studies, while still being suitable for a high throughput setting, and financially accessible as opposed to even more advanced liver models (ref for last part) \\[@ingelman-sundberg; @dunvald\\] . Another claim for the lack of correlation discussed in the review by AC et al. is that there might be methodological limitations to the widespread use of 2D models of PHHs \\[@dunvald\\].\n",
    "\n",
    "We aimed to utilize 3D primary human hepatocytes \\[@bell2016\\] to study the impact of physiologically relevant concentrations of cytokines on CYP expression and activity. This may help further our understanding of the impact of inflammation on clinical drug metabolism among patients with inflammation. This, in turn, may inform more precise and adaptive prescribing strategies for patients in various inflammatory states.\n",
    "\n",
    "## Methods\n",
    "\n",
    "### 3D spheroid culture of PHHs\n",
    "\n",
    "#### Materials\n",
    "\n",
    "All necessary components for cell culture, including the medium, supplements, and compounds, were acquired from Thermo Fisher Scientific, unless stated otherwise.\n",
    "\n",
    "#### Cell source and preparation\n",
    "\n",
    "Three lots of cryopreserved primary human hepatocytes, specifically Hu8345-A, Hu8373-A and Hu8381, were procured from Thermo Fisher Scientific (Waltham, MA). All necessary cell culture reagents were sourced from the same supplier. All PHHs were qualified for spheroid formation per the manufacturer.\n",
    "\n",
    "#### Spheroid formation and maintenance\n",
    "\n",
    "The spheroid culture followed an adapted protocol from a previous study \\[@bell2016\\]. In short 1500 hepatocytes per well in ultra-low attachment 96-well plates. Following seeding, the plates were centrifuged for 2 minutes at 200g. Subsequently, the plates were incubated at 37°C with 5% CO2.\n",
    "\n",
    "On day 0 cells were seeded in culture medium, totaling 100 μL per well, consisting of 5% fetal bovine serum, 1 μM dexamethasone, 5 μg/mL human recombinant insulin, 100 U/mL penicillin, 100 μg/mL streptomycin, 2 mM L-glutamine, and 15 mM HEPES in Williams’ E medium.\n",
    "\n",
    "After spheroid formation the seeding medium was replaced with FBS free maintenance medium. This medium comprised 0.1 μM dexamethasone, 10 μg/mL human recombinant insulin, 5.5 μg/mL transferrin, 6.7 ng/mL selenium, 100 U/mL penicillin, 100 μg/mL streptomycin, and 2 mM L-glutamine in Williams’ E medium. This FBS washout with maintenance medium was done with a 70% medium change on days 5-7. `For donor 1 (Hu8345-A) the maintenance also contained 5.35 μg/mL linoleic acid, 1.25 mg/mL bovine serum albumin and 15 mM HEPES. These supplements are, however, no longer recommended by the manufacturer`[1]`.`\n",
    "\n",
    "Detailed descriptions of the spheroid culture process, as well as donor information, are available in the supplementary materials (Table SX).\n",
    "\n",
    "### Treatments\n",
    "\n",
    "Treatment with proinflammatory cytokines commenced on day 8 post seeding. The spheroids were exposed to IL-6 and IL-1β at concentrations of 0.01, 0.1, 1, and 10 ng/ml, alongside a vehicle control (0.1% bovine serum albumin in PBS). The cytokine treatments and vehicle control were diluted 1:1000 in the culture medium before administration.Re-dosing was done every other day for long-term cultures.\n",
    "\n",
    "### Spheroid viability and morphology\n",
    "\n",
    "The viability of the spheroids was monitored by measuring their ATP content, using the luminiscence CellTiter-Glo 3D assay from Promega (Madison, WI). Quantification of ATP was done using an ATP (from Thermo Fisher Scientific) standard curve. Viability was assessed every 2-3 days throughout the experiments.\n",
    "\n",
    "In addition to viability testing, the morphology of the spheroids was monitored. Imaging was done every second or third day, aligning with the viability assays. The spheroids were imaged using a light microscope equipped with a 10X magnification lens and a digital camera from Motic (Hong Kong, China).\n",
    "\n",
    "### RNA extraction, cDNA synthesis and qPCR\n",
    "\n",
    "RNA was extracted using the phenol-chloroform method, following the manufacturer’s protocol from Qiagen with minor modifications \\[@toni2018\\]. Each spheroid pool was treated with 1 mL of Qiazol (Qiagen) reagent for lysis, followed by co-precipitation with 15 μg of RNA grade glycogen (Thermo Fisher Scientific). The RNA pellet underwent three washes with 75% ethanol. Post-wash, a combination of heating and evaporation techniques was applied to remove residual ethanol and to facilitate the solubilization of the RNA pellet in water.\n",
    "\n",
    "RNA integrity was assessed for a subset of samples[2] using the Agilent BioAnalyzer, yielding RNA Integrity Number (RIN) values from 7 to 9.8. These values indicate high-quality RNA. Concentration of RNA were estimated utilizing the NanoDrop spectrophotometer.\n",
    "\n",
    "Approximately 500 ng of extracted RNA was used for cDNA synthesis. This process was performed using the High-Capacity cDNA Reverse Transcription Kit with RNase Inhibitor (Thermo Fisher Scientific).\n",
    "\n",
    "For qPCR, 10 ng of cDNA, based on the initial RNA concentration, was utilized for each reaction. The reactions were set up in a 10 μL volume containing TaqMan Universal Master Mix II and target-specific TaqMan assays (detailed in Supplementary Methods). The qPCR was run for 40 cycles, following the manufacturer’s guidelines (Thermo Fisher Scientific). The PCR plate sample maximization method was applied\\[@derveaux2010\\], and a stable reference gene as well as no template controls and no reverse transcriptase controls was included in each plate.\n",
    "\n",
    "In the analysis of mRNA expression, the relative quantity was calculated by first determining the delta Cq ((C_q)) for each sample. This was achieved by subtracting the mean Cq of the control group from the mean Cq of the replicates of each sample. The relative quantity was then computed using the formula (2^{C_q}). For normalization, the relative quantity of the target gene in each sample was divided by the relative quantity of the reference gene (GAPDH or TBP). The average normalized expression for each biological group was subsequently calculated.\n",
    "\n",
    "### Activity\n",
    "\n",
    "To assess the activity of CYP3A4 (maybe otheres also), an experiment was conducted using midazolam as a substrate in spheroids derived from donors 2 and 3, evaluated on day 12. Midazolam (Toronto Research Chemicals, Toronto, ON, Canada), was prepared as a 6,000× stock solution in DMSO. The final DMSO concentration in the enzyme activity assays was maintained at 0.15%. Prior to the introduction of midazolam to the spheroids, the cells underwent three washes with 100 μL of maintenance medium. Between washes, the residual volume was kept at 20 μL, and before the final wash, the spheroids were incubated for 2 hours in a cell culture incubator.\n",
    "\n",
    "The concentration of midazolam in the assay was set at 10 μM, with a total volume of 100 μL per well. For the analysis, triplicate samples, each comprising a ~~spheroid~~ and medium from a single well, were collected at 0.5 (8 hours for other enzymes) hours post midazolam treatment. These samples were then stored at -80°C until further analysis. The specific methods used for the metabolite analysis of these samples are detailed in the supplementary material.\n",
    "\n",
    "### Quantitative analysis of proteins via LC-MS with selective immunoprecipitation\n",
    "\n",
    "The quantification of human CYP ~~and transporter~~ proteins was performed using a targeted liquid chromatography-mass spectrometry approach, incorporating selective immunoprecipitation of peptides, as previously described\\[@weiß2018\\]. Uniform numbers of spheroids were employed in each analysis for consistency. In summary, spheroids were lysed in a buffer of 42 mM ammonium bicarbonate, containing 1.14 mM dithiothreitol and 9 mM iodoacetamide, and incubated for 15 minutes at 90°C, a method adapted from Savaryn et al. \\[@savaryn2020\\]. The lysates were then digested with MS-grade Pierce Trypsin Protease (Thermo Fisher Scientific) for 16 hours at 37°C. To halt the digestion, phenylmethanesulfonyl fluoride was added to each sample, achieving a final concentration of 1 mM and a total volume of 70 μL. A portion of the digested sample (25 μL) was then used for the immunoprecipitation of surrogate and internal standard peptides using triple X proteomics antibodies\\[@weiß2018\\]. These peptides were subsequently analyzed and quantified through LC-MS. The specific surrogate peptides employed for protein quantification and the LC-gradients are detailed in the supplementary material. For data processing, Skyline software (MACOSS Lab, University of Washington, Seattle, WA) and TraceFinder 4.1 (Thermo Fisher Scientific) were utilized.\n",
    "\n",
    "## Results\n",
    "\n",
    "[1] Skip this?\n",
    "\n",
    "[2] Dog ikke fra nogle af disse 3 donorer, så måske bedre med: To assess the integrity of the RNA, we evaluated the RNA Integrity Number (RIN) for a subset of samples, which yielded values ranging from 7 to 9.8.  \n",
    "  \n",
    "To validate the RNA extraction method, we assessed the RNA Integrity Number (RIN) using the Agilent BioAnalyzer for a subset of samples not derived from the donors discussed in this article. These assessments yielded RIN values between 7 and 9.8, indicative of high-quality RNA."
   ],
   "id": "4905b314-1a57-496b-b44b-8445b5288c20"
  }
 ],
 "nbformat": 4,
 "nbformat_minor": 5,
 "metadata": {}
}
